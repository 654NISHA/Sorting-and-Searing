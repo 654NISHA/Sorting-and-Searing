{
 "cells": [
  {
   "cell_type": "markdown",
   "id": "50bbe724-c65b-42a3-b122-d5792d95e5bc",
   "metadata": {},
   "source": [
    "###  Problem 1 :\n",
    "Intersection of Two Sorted Arrays\n",
    "Write a Python program to find the intersection of two sorted arrays"
   ]
  },
  {
   "cell_type": "code",
   "execution_count": 1,
   "id": "c9df34ed-7702-4133-aa84-7fffe177246e",
   "metadata": {},
   "outputs": [
    {
     "name": "stdout",
     "output_type": "stream",
     "text": [
      "Common element in given two arrays 5\n"
     ]
    }
   ],
   "source": [
    "def intersection(A, B):\n",
    "    i = 0\n",
    "    j = 0 \n",
    "    while (i<len(A) and j<len(B)):\n",
    "        if A[i] == B[j]:\n",
    "            return A[i]\n",
    "        elif A[i] < B[j]:\n",
    "            i += 1\n",
    "        else:\n",
    "            j += 1\n",
    "            \n",
    "# Drive code\n",
    "A = [1, 3, 5, 7, 9]\n",
    "B = [2, 4, 5, 8]\n",
    "print(\"Common element in given two arrays\",intersection(A, B))"
   ]
  },
  {
   "cell_type": "markdown",
   "id": "e2688be2-7559-4bdc-93c7-878ca83df3c1",
   "metadata": {},
   "source": [
    "### Problem 2 : \n",
    "Find the Kth Smallest Element\n",
    "Write a Python function to find the kth smallest element in an unsorted list"
   ]
  },
  {
   "cell_type": "code",
   "execution_count": 2,
   "id": "84379455-0902-4752-9762-5a8e20e26a56",
   "metadata": {},
   "outputs": [
    {
     "name": "stdout",
     "output_type": "stream",
     "text": [
      "3th smallest element in given array 7\n"
     ]
    }
   ],
   "source": [
    "def quickSort(arr, low, high, k):\n",
    "    if low <= high:\n",
    "        pivot = partition(arr, low, high)\n",
    "        if k == pivot:\n",
    "            return arr[pivot]\n",
    "        elif k < pivot:\n",
    "            return quickSort(arr, low, pivot-1, k)\n",
    "        else:\n",
    "            return quickSort(arr, pivot+1, high, k)\n",
    "        \n",
    "def partition(arr, low, high):\n",
    "    pivot = arr[high]\n",
    "    i = low-1\n",
    "    for j in range(low, high):\n",
    "        if arr[j] <= pivot:\n",
    "            i += 1\n",
    "            arr[i], arr[j] = arr[j], arr[i]\n",
    "        arr[i+1], arr[high] = arr[high], arr[i+1]\n",
    "    return i+1\n",
    "\n",
    "# Drive code\n",
    "arr = [12, 3, 1, 7, 8, 20]\n",
    "k = 3\n",
    "print(f\"{k}th smallest element in given array\",quickSort(arr, 0, len(arr)-1, k))"
   ]
  },
  {
   "cell_type": "markdown",
   "id": "1baaa415-5b54-4818-955e-1e8aa3b38881",
   "metadata": {},
   "source": [
    "### Problem 3 : \n",
    "Binary Search in a Rotated Sorted Array\n",
    "Implement a Python program to perform a binary search on a rotated sorted array"
   ]
  },
  {
   "cell_type": "code",
   "execution_count": 5,
   "id": "09e20c66-137e-4d83-b5ce-e6132caf8534",
   "metadata": {},
   "outputs": [
    {
     "name": "stdout",
     "output_type": "stream",
     "text": [
      "6 is found at index 2\n"
     ]
    }
   ],
   "source": [
    "def binarySerchRotated(arr, key):\n",
    "    l = 0\n",
    "    h = len(arr)-1\n",
    "    while (l <= h):\n",
    "        mid =  l+ (h-l)//2\n",
    "        if arr[mid] == key:\n",
    "            return mid\n",
    "        if arr[l] <= arr[mid]:\n",
    "            if arr[l] <= key <= arr[mid]:\n",
    "                h = mid-1\n",
    "            else:\n",
    "                l = mid+1\n",
    "        else:\n",
    "            if arr[mid] <= key <= arr[h]:\n",
    "                l = mid+1\n",
    "            else:\n",
    "                h = mid-1\n",
    "    return -1\n",
    "\n",
    "# Drive code\n",
    "arr = [4, 5, 6, 7, 8, 9, 1, 2, 3]\n",
    "key = 6\n",
    "print(f\"{key} is found at index\",binarySerchRotated(arr, key))\n"
   ]
  },
  {
   "cell_type": "markdown",
   "id": "b33c9102-ce5a-4961-9f47-96b840005a80",
   "metadata": {},
   "source": [
    "###  Problem 4 : \n",
    "Searching in a Matrix\n",
    " Write a Python program that searches for a given element in a 2D matrix and returns its position"
   ]
  },
  {
   "cell_type": "code",
   "execution_count": 3,
   "id": "711f381a-f0c2-4ed8-ba58-eb5c9681a8d2",
   "metadata": {},
   "outputs": [
    {
     "data": {
      "text/plain": [
       "[1, 2]"
      ]
     },
     "execution_count": 3,
     "metadata": {},
     "output_type": "execute_result"
    }
   ],
   "source": [
    "def matrixSearch(matrix, target):\n",
    "    i = 0\n",
    "    j = len(matrix[0])-1\n",
    "    while (i < len(matrix) and j >= 0):\n",
    "        if matrix[i][j] == target:\n",
    "            return [i,j]\n",
    "        elif matrix[i][j] > target:\n",
    "            j -= 1\n",
    "        else:\n",
    "            i += 1\n",
    "    return -1\n",
    "\n",
    "# Drive code\n",
    "matrix = [[1, 3, 5],[7, 9, 11],[13, 15, 17]]\n",
    "target = 11\n",
    "matrixSearch(matrix, target)"
   ]
  },
  {
   "cell_type": "markdown",
   "id": "7c3592f1-6cd7-45d1-86b4-bfbf2775a572",
   "metadata": {},
   "source": [
    "###  Problem 5 : \n",
    "Sorting Strings by Length\n",
    "Write a Python program that takes a list of strings and sorts them based on their length"
   ]
  },
  {
   "cell_type": "code",
   "execution_count": 5,
   "id": "924c09be-6c6c-47d2-80b9-f1f8b7461ce5",
   "metadata": {},
   "outputs": [
    {
     "name": "stdout",
     "output_type": "stream",
     "text": [
      "Sort the given array in by its length\n",
      " ['kiwi', 'grape', 'apple', 'orange', 'banana']\n"
     ]
    }
   ],
   "source": [
    "def merge(arr):\n",
    "    if len(arr) <= 1:\n",
    "        return \n",
    "    mid = len(arr)//2\n",
    "    left = arr[mid:]\n",
    "    right = arr[:mid]\n",
    "    merge(left)\n",
    "    merge(right)\n",
    "    mergeSort(arr, left, right)\n",
    "    \n",
    "def mergeSort(arr, left, right):\n",
    "    i, j, k = 0, 0, 0\n",
    "    while (i < len(left) and j < len(right)):\n",
    "        if len(left[i]) <= len(right[j]):\n",
    "            arr[k] = left[i]\n",
    "            i += 1\n",
    "        else:\n",
    "            arr[k] = right[j]\n",
    "            j += 1\n",
    "        k += 1\n",
    "        \n",
    "    while (i < len(left)):\n",
    "        arr[k] = left[i]\n",
    "        i += 1\n",
    "        k += 1\n",
    "    \n",
    "    while (j < len(right)):\n",
    "        arr[k] = right[j]\n",
    "        j += 1\n",
    "        k += 1\n",
    "        \n",
    "# Drive code\n",
    "arr =  ['apple', 'banana', 'kiwi', 'orange', 'grape']\n",
    "merge(arr)\n",
    "print(\"Sort the given array in by its length\\n\",arr)"
   ]
  },
  {
   "cell_type": "markdown",
   "id": "e13b29b5-300f-41e4-aceb-d10204edf1f5",
   "metadata": {},
   "source": [
    "### Problem 6 : \n",
    "Implementing the merge sort"
   ]
  },
  {
   "cell_type": "code",
   "execution_count": 6,
   "id": "517537e8-4e61-49e8-b445-e8dd4af2dc72",
   "metadata": {},
   "outputs": [
    {
     "name": "stdout",
     "output_type": "stream",
     "text": [
      "Sort the given array by merge sort [5, 6, 7, 11, 12, 13]\n"
     ]
    }
   ],
   "source": [
    "def mergeSort(arr):\n",
    "    if len(arr) <= 1:\n",
    "        return \n",
    "    \n",
    "    mid = len(arr)//2\n",
    "    left = arr[mid:]\n",
    "    right = arr[:mid]\n",
    "    \n",
    "    mergeSort(left)\n",
    "    mergeSort(right)\n",
    "    merge_arr(arr, left, right)\n",
    "    \n",
    "def merge_arr(arr, left, right):\n",
    "    i = 0\n",
    "    j = 0 \n",
    "    k = 0\n",
    "    while (i < len(left) and j < len(right)):\n",
    "        if left[i] < right[j]:\n",
    "            arr[k] = left[i]\n",
    "            i += 1\n",
    "        else:\n",
    "            arr[k] = right[j]\n",
    "            j += 1\n",
    "        k += 1\n",
    "        \n",
    "    while (i < len(left)):\n",
    "        arr[k] = left[i]\n",
    "        i += 1\n",
    "        k += 1\n",
    "    while (j < len(right)):\n",
    "        arr[k] = right[j]\n",
    "        j += 1\n",
    "        k += 1\n",
    "           \n",
    "# Drive code\n",
    "l1 = [12,11,13,5,6,7]\n",
    "mergeSort(l1)\n",
    "print(\"Sort the given array by merge sort\",l1)"
   ]
  },
  {
   "cell_type": "markdown",
   "id": "66770088-9ea2-4152-ba0a-943ba3855dc6",
   "metadata": {},
   "source": [
    "### Problem 7 : \n",
    "Implementing the quick sort"
   ]
  },
  {
   "cell_type": "code",
   "execution_count": 7,
   "id": "b8f85c54-5009-4d59-b11c-c9ee23403b67",
   "metadata": {},
   "outputs": [
    {
     "name": "stdout",
     "output_type": "stream",
     "text": [
      "Sort the given array by Quick sort [5, 7, 11, 12, 13]\n"
     ]
    }
   ],
   "source": [
    "def quickSort(arr, low, high):\n",
    "    if low >= high:\n",
    "        return\n",
    "    pivot = partition(arr, low, high)\n",
    "    quickSort(arr, pivot+1, high)\n",
    "    quickSort(arr, low, pivot-1)\n",
    "\n",
    "def partition(arr, low, high):\n",
    "    pivot = arr[high]\n",
    "    i = low-1\n",
    "    for j in range(low,high):\n",
    "        if arr[j] <= pivot:\n",
    "            i += 1\n",
    "            arr[i], arr[j] = arr[j], arr[i]\n",
    "    arr[i+1], arr[high] = arr[high], arr[i+1]\n",
    "    return i+1\n",
    "\n",
    "# Drive code\n",
    "l = [12,13,11,5,7]\n",
    "quickSort(l, 0, len(l)-1)\n",
    "print(\"Sort the given array by Quick sort\",l)"
   ]
  },
  {
   "cell_type": "markdown",
   "id": "86844827-cfed-4f7a-ae03-d906db2ad353",
   "metadata": {},
   "source": [
    "###  Problem 8 : \n",
    "Implementing the count sort"
   ]
  },
  {
   "cell_type": "code",
   "execution_count": 8,
   "id": "408d95de-904d-4a38-a598-a49b9956b3fe",
   "metadata": {},
   "outputs": [
    {
     "name": "stdout",
     "output_type": "stream",
     "text": [
      "Sort the given array by Count array [1, 1, 2, 3, 4, 5, 5]\n"
     ]
    }
   ],
   "source": [
    "def countSort(arr):\n",
    "    # find the maximum element\n",
    "    maxEle = arr[0]\n",
    "    for i in range(len(arr)):\n",
    "        maxEle = max(maxEle,arr[i])\n",
    "        \n",
    "    # Create the count array\n",
    "    count = [0]*(maxEle+1)\n",
    "    # increment the corresponding index in the count array\n",
    "    for i in range(len(arr)):\n",
    "        count[arr[i]] = count[arr[i]] + 1\n",
    "    \n",
    "    i,j = 0,0\n",
    "    while (i <= maxEle):\n",
    "        if count[i] > 0:\n",
    "            arr[j] = i\n",
    "            count[i] = count[i]-1\n",
    "            j += 1\n",
    "        else:\n",
    "            i += 1\n",
    "            \n",
    "# Drive code\n",
    "arr = [1,3,5,2,5,1,4]\n",
    "countSort(arr)\n",
    "print(\"Sort the given array by Count array\",arr)"
   ]
  },
  {
   "cell_type": "markdown",
   "id": "709f9290-9477-4798-b949-3aed2eb2a6d6",
   "metadata": {},
   "source": [
    "### Problem 9 : \n",
    "Implement a Python function to find a peak element in an array. A peak element is an element that is greater than or equal to its neighbors."
   ]
  },
  {
   "cell_type": "code",
   "execution_count": 10,
   "id": "9c384c50-3540-4988-b31d-f84915766dc4",
   "metadata": {},
   "outputs": [
    {
     "name": "stdout",
     "output_type": "stream",
     "text": [
      "Peak element of given array 20\n"
     ]
    }
   ],
   "source": [
    "def peakElement(arr):\n",
    "    l = 0\n",
    "    h = len(arr)-1\n",
    "    while (l <= h):\n",
    "        mid = l+(h-l)//2\n",
    "        if arr[mid-1] <= arr[mid] and arr[mid] >= arr[mid+1]:\n",
    "            return arr[mid]\n",
    "        elif arr[mid] <= arr[mid+1]:\n",
    "            l = mid+1\n",
    "        else:\n",
    "            h = mid-1\n",
    "    return -1\n",
    "\n",
    "# Drive code\n",
    "arr = [1, 3, 20, 4, 2, 1,  0]\n",
    "print(\"Peak element of given array\",peakElement(arr))"
   ]
  },
  {
   "cell_type": "markdown",
   "id": "242612bd-6b1c-474c-aff5-4e0ba38922c5",
   "metadata": {},
   "source": [
    "###  Problem 10 :\n",
    "Search in a Nearly Sorted Array\n",
    "Implement a Python program to perform a binary search in a nearly sorted array. In a nearly sorted array, each element is at most k positions away from its sorted position"
   ]
  },
  {
   "cell_type": "code",
   "execution_count": 5,
   "id": "4b4d041c-bbba-4a4c-a834-03c46b0771dd",
   "metadata": {},
   "outputs": [
    {
     "data": {
      "text/plain": [
       "4"
      ]
     },
     "execution_count": 5,
     "metadata": {},
     "output_type": "execute_result"
    }
   ],
   "source": [
    "def search_nearly_sorted(arr, key, k):\n",
    "    l = 0\n",
    "    h = len(arr)-1\n",
    "    while (l <= h):\n",
    "        mid = l + (h-l)//2\n",
    "        if arr[mid] == key:\n",
    "            return mid\n",
    "        \n",
    "        for i in range(max(0, mid - k), min(len(arr), mid + k + 1)):\n",
    "            if arr[i] == key:\n",
    "                return i \n",
    "            \n",
    "        if arr[mid] < key:\n",
    "            l = mid+1\n",
    "        else:\n",
    "            h = mid-1\n",
    "    return -1\n",
    "            \n",
    "# Drive code\n",
    "arr =  [3, 2, 1, 6, 5, 4]\n",
    "k = 2\n",
    "key = 5\n",
    "search_nearly_sorted(arr, key, k)"
   ]
  },
  {
   "cell_type": "code",
   "execution_count": null,
   "id": "34a08e81-b225-440a-a8ee-221bb089f334",
   "metadata": {},
   "outputs": [],
   "source": []
  }
 ],
 "metadata": {
  "kernelspec": {
   "display_name": "Python 3 (ipykernel)",
   "language": "python",
   "name": "python3"
  },
  "language_info": {
   "codemirror_mode": {
    "name": "ipython",
    "version": 3
   },
   "file_extension": ".py",
   "mimetype": "text/x-python",
   "name": "python",
   "nbconvert_exporter": "python",
   "pygments_lexer": "ipython3",
   "version": "3.10.8"
  }
 },
 "nbformat": 4,
 "nbformat_minor": 5
}
